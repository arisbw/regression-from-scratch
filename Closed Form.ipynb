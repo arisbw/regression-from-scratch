{
 "cells": [
  {
   "cell_type": "markdown",
   "metadata": {},
   "source": [
    "RSS is simply the squared difference between target $y$ and estimated value $\\hat{y}$\n",
    " \n",
    "$$\\sum(y-\\hat{y})^2$$\n",
    "\n",
    "Remember that $\\hat{y}$ is equal to $b_0+b_1x$ so we can expand this further into\n",
    "$$\\sum(y-(b_0+b_1x))^2$$\n",
    "\n",
    "\n"
   ]
  },
  {
   "cell_type": "markdown",
   "metadata": {},
   "source": [
    "\n",
    "If you remember elementary maths, the plot of a parabola (a square function) have this kind of shape"
   ]
  },
  {
   "cell_type": "markdown",
   "metadata": {},
   "source": [
    "The great thing about this function is that it always have a global minimum. This is confirmed by calculus by setting the derivation of the RSS function to zero. From calculus we know that the RSS function is a concave function, which means that it must have a unique, global minimum. That is the sole reason why we can have the closed form equation, i.e. unique solution that corresponds to the global minimum. However, RSS is a special case where the derivation can be set to zero so we could obtain the parameter. More often than not, we could not do this. So take this closed form solution with a little bit grain of salt"
   ]
  },
  {
   "cell_type": "markdown",
   "metadata": {},
   "source": [
    "Now, we would derive RSS with respect to (w.r.t.) $b_0$ and $b_1$ before we set them both to 0 and find the parameter $b_0$ and $b_1$\n",
    "\n",
    "Let's now call RSS function as a cost function or a loss function. In a nutshell its the function we strive to maximize or minimize.\n",
    "\n",
    "\n",
    "\\begin{eqnarray}\n",
    " \\frac{\\partial C}{\\partial b_0} &=& -2 \\sum(y-b_0-b_1x)      \\nonumber \\\\\n",
    "   &=& -2 \\sum(y-(b_0+b_1x)) \n",
    "\\end{eqnarray}\n",
    "\n",
    "\\begin{eqnarray}\n",
    " \\frac{\\partial C}{\\partial b_1} &=& -2 \\sum(y-b_0-b_1x)(x)     \\nonumber \\\\\n",
    "   &=& -2 \\sum(y-(b_0+b_1x))(x)\n",
    "\\end{eqnarray}\n",
    "\n"
   ]
  },
  {
   "cell_type": "markdown",
   "metadata": {},
   "source": [
    "Set the first equation to zero\n",
    "\n",
    "\\begin{eqnarray}\n",
    " 0 &=& -2 \\sum(y-b_0-b_1x)    \\nonumber \\\\\n",
    "   &=& \\sum(y) - \\sum(b_0) - \\sum(b_1)x \\\\\n",
    " b_0 &=& \\frac{y}{n} - \\frac {b1 \\sum(x)}{n} \\\\\n",
    " &=& \\overline{y} - b_1\\overline{x}\n",
    "\\end{eqnarray}"
   ]
  },
  {
   "cell_type": "markdown",
   "metadata": {},
   "source": [
    "Set the second equation to zero\n",
    "\n",
    "\\begin{eqnarray}\n",
    " 0 &=& -2 \\sum y-b_0-b_1xx   \\nonumber \\\\\n",
    "   &=& \\sum yx - \\sum b_0x - \\sum b_1x^2 \\\\\n",
    " b_1\\sum x^2 &=&  \\sum yx - b_0\\sum x\\\\\n",
    "\\end{eqnarray}\n",
    "\n",
    "But recall that $b_0 = \\overline{y} - b_1\\overline{x}$\n",
    "\n",
    "\\begin{eqnarray}\n",
    " b_1\\sum(x^2) &=&  \\sum(yx) - (\\overline{y} - b_1\\overline{x})\\sum(x)\\\\\n",
    "   &=& \\sum yx - (\\frac {\\sum y}{n} - b_1 \\frac{\\sum x}{n})\\sum x \\\\\n",
    "   &=& \\sum yx - \\frac{1}{n} \\sum y \\sum x  + \\frac{1}{n} b1 \\sum x \\sum x  \\\\\n",
    " b_1 (\\sum x^2 - \\frac {1}{n} \\sum x \\sum x)  &=& \\sum yx - \\frac{1}{n} \\sum y \\sum x \\\\\n",
    " b_1 &=& \\frac {\\sum xy - \\frac{1}{n} \\sum x \\sum y} {\\sum x^2 - \\frac {1}{n} \\sum x \\sum x}\n",
    "\\end{eqnarray}"
   ]
  },
  {
   "cell_type": "markdown",
   "metadata": {
    "collapsed": true
   },
   "source": [
    "But we can simplify $b_1$ further"
   ]
  },
  {
   "cell_type": "markdown",
   "metadata": {},
   "source": [
    "However, most of the times, we are not able to do this, since the cost function is much more complicated. That is why we would use Gradient Descent most of the time."
   ]
  }
 ],
 "metadata": {
  "celltoolbar": "Slideshow",
  "kernelspec": {
   "display_name": "Python 3",
   "language": "python",
   "name": "python3"
  },
  "language_info": {
   "codemirror_mode": {
    "name": "ipython",
    "version": 3
   },
   "file_extension": ".py",
   "mimetype": "text/x-python",
   "name": "python",
   "nbconvert_exporter": "python",
   "pygments_lexer": "ipython3",
   "version": "3.5.4"
  }
 },
 "nbformat": 4,
 "nbformat_minor": 2
}
